{
 "cells": [
  {
   "cell_type": "code",
   "execution_count": 4,
   "metadata": {},
   "outputs": [],
   "source": [
    "import pandas as pd\n",
    "import numpy as np\n",
    "import matplotlib.pyplot as plt\n",
    "from matplotlib.image import imsave\n",
    "from sklearn import preprocessing\n",
    "import seaborn as sns\n",
    "from sklearn.decomposition import PCA as sklearnPCA\n",
    "from sklearn.manifold import TSNE\n",
    "from ipywidgets import interactive, HBox, VBox\n",
    "from sklearn.cluster import KMeans\n",
    "\n",
    "pd.set_option('display.max_rows', 500)\n",
    "pd.set_option('display.max_columns', 500)\n",
    "pd.set_option('display.width', 1000)\n",
    "\n",
    "import warnings\n",
    "warnings.filterwarnings('ignore')"
   ]
  },
  {
   "cell_type": "code",
   "execution_count": 5,
   "metadata": {},
   "outputs": [
    {
     "data": {
      "text/html": [
       "        <script type=\"text/javascript\">\n",
       "        window.PlotlyConfig = {MathJaxConfig: 'local'};\n",
       "        if (window.MathJax) {MathJax.Hub.Config({SVG: {font: \"STIX-Web\"}});}\n",
       "        if (typeof require !== 'undefined') {\n",
       "        require.undef(\"plotly\");\n",
       "        requirejs.config({\n",
       "            paths: {\n",
       "                'plotly': ['https://cdn.plot.ly/plotly-latest.min']\n",
       "            }\n",
       "        });\n",
       "        require(['plotly'], function(Plotly) {\n",
       "            window._Plotly = Plotly;\n",
       "        });\n",
       "        }\n",
       "        </script>\n",
       "        "
      ]
     },
     "metadata": {},
     "output_type": "display_data"
    }
   ],
   "source": [
    "from plotly.offline import init_notebook_mode, iplot\n",
    "import plotly.offline as py\n",
    "import plotly.graph_objs as go\n",
    "init_notebook_mode(connected=True)"
   ]
  },
  {
   "cell_type": "code",
   "execution_count": 6,
   "metadata": {},
   "outputs": [],
   "source": [
    "from sklearn.model_selection import train_test_split\n",
    "from sklearn.preprocessing import StandardScaler\n",
    "from sklearn.neighbors import KNeighborsClassifier\n",
    "from sklearn.metrics import classification_report, confusion_matrix\n",
    "from sklearn import datasets"
   ]
  },
  {
   "cell_type": "code",
   "execution_count": 262,
   "metadata": {},
   "outputs": [],
   "source": [
    "sources = []\n",
    "imgs = []\n",
    "NCOMP = []\n",
    "\n",
    "def saveImgs(images, imgp):\n",
    "    for i, img in enumerate(images):\n",
    "        n = imgp + str(i) + \".png\"\n",
    "        imsave(n, img, cmap=plt.cm.gray_r)\n",
    "        \n",
    "def Iris():\n",
    "    df = datasets.load_iris(as_frame=True).frame\n",
    "    NCOMP.extend([2])\n",
    "    for y in df.iloc[:,-1].values:\n",
    "        p = \"./imgs/iris/\" + str(y) + \".jpg\"\n",
    "        sources.append(p)\n",
    "    return df\n",
    "    \n",
    "    \n",
    "def Digits():\n",
    "    df = datasets.load_digits(as_frame=True).frame\n",
    "    NCOMP.extend([0.95])\n",
    "    imgs.extend(datasets.load_digits().images)\n",
    "    for i in range(len(df)):\n",
    "        p = \"./imgs/digits/\" + str(i) + \".png\"\n",
    "        sources.append(p)\n",
    "    return df\n",
    "\n",
    "def saveDImgs(originals, apprs, ncomp):\n",
    "    for i, img in enumerate(originals):\n",
    "        plt.figure(figsize=(8,4));\n",
    "\n",
    "        # Original Image\n",
    "        plt.subplot(1, 2, 1);\n",
    "        plt.imshow(img, cmap = plt.cm.gray_r, interpolation='nearest');\n",
    "        plt.xlabel('784 components', fontsize = 14)\n",
    "        plt.title('Original Image', fontsize = 20);\n",
    "        plt.axis('off')\n",
    "\n",
    "        # 154 principal components\n",
    "        plt.subplot(1, 2, 2);\n",
    "        plt.imshow(apprs[i].reshape(img.shape), cmap = plt.cm.gray_r, interpolation='nearest');\n",
    "        plt.xlabel('{ncomp} components', fontsize = 14)\n",
    "        plt.title('95% of Explained Variance', fontsize = 20);\n",
    "        plt.axis('off')\n",
    "        p = \"./imgs/digits/\" + str(i) + \".png\"\n",
    "        print(i)\n",
    "        plt.savefig(p)\n",
    "        \n",
    "    "
   ]
  },
  {
   "cell_type": "code",
   "execution_count": 263,
   "metadata": {},
   "outputs": [],
   "source": [
    "df = Iris()\n",
    "#df = Digits()\n",
    "\n",
    "#X = StandardScaler().fit_transform(df.iloc[:,0:-1].values)  \n",
    "X = df.iloc[:,0:-1].values\n",
    "y = df.iloc[:,-1].values"
   ]
  },
  {
   "cell_type": "code",
   "execution_count": 264,
   "metadata": {},
   "outputs": [],
   "source": [
    "def get_cmap(n, name='hsv'):\n",
    "    '''Returns a function that maps each index in 0, 1, ..., n-1 to a distinct \n",
    "    RGB color; the keyword argument name must be a standard mpl colormap name.'''\n",
    "    return plt.cm.get_cmap(name, n)"
   ]
  },
  {
   "cell_type": "code",
   "execution_count": 265,
   "metadata": {},
   "outputs": [],
   "source": [
    "def formatColor(color):\n",
    "    return 'rgb('+str(int(color[0]*255))+','+str(int(color[1]*255))+','+str(int(color[2]*255))+')'\n",
    "\n",
    "    \n",
    "def pca(df, currentLabel,attributes,n_clusters=[7]):\n",
    "    sklearn_pca = sklearnPCA(n_components=NCOMP[0])\n",
    "    X_embedded = sklearn_pca.fit_transform(X)   \n",
    "    approximations = sklearn_pca.inverse_transform(X_embedded)\n",
    "    \n",
    "    if(len(imgs)):\n",
    "        approximations = np.array(approximations).reshape( np.array(imgs).shape)\n",
    "        saveImgs(approximations, \"./imgs/digits/\")\n",
    "\n",
    "    numColors = len(np.unique(y))\n",
    "\n",
    "    cmap = get_cmap(numColors+1)\n",
    "    colorList = [cmap(i) for i in range(1, numColors+1)]\n",
    "\n",
    "\n",
    "    traceArr = []\n",
    "    mapPoints = []\n",
    "    labelArray = np.unique(y)\n",
    "    for lab, col in zip(labelArray,\n",
    "                        colorList):\n",
    "        mapPoints.extend(df[y==lab].index)\n",
    "        trace = go.Scatter(\n",
    "            x=X_embedded[y==lab, 0],\n",
    "            y=X_embedded[y==lab, 1],\n",
    "            mode='markers',\n",
    "            name = str(lab),\n",
    "            marker=dict(\n",
    "                size=5,\n",
    "                color=formatColor(col),\n",
    "                opacity=0.8\n",
    "            ),\n",
    "\n",
    "        )\n",
    "        traceArr.append(trace)\n",
    "    f = go.FigureWidget(data=traceArr, layout=go.Layout(\n",
    "            margin=dict(\n",
    "                l=0,\n",
    "                r=0,\n",
    "                b=0,\n",
    "                t=0\n",
    "        )))\n",
    "    \n",
    "    t = go.FigureWidget([go.Table(\n",
    "    header=dict(values=attributes,\n",
    "                fill = dict(color='#C2D4FF'),\n",
    "                align = ['left'] * 5),\n",
    "    cells=dict(values=[df.copy()[col] for col in attributes],\n",
    "               fill = dict(color='#F5F8FF'),\n",
    "               align = ['left'] * 5))])\n",
    "\n",
    "    \n",
    "\n",
    "    #display(VBox((slider,f,t)))\n",
    "    return f\n",
    "       "
   ]
  },
  {
   "cell_type": "code",
   "execution_count": 266,
   "metadata": {},
   "outputs": [],
   "source": [
    "f = pca(df,4,df.columns.values.tolist())"
   ]
  },
  {
   "cell_type": "code",
   "execution_count": 267,
   "metadata": {},
   "outputs": [],
   "source": [
    "allY = []\n",
    "allX = []\n",
    "for d in f.data:\n",
    "    allY.extend(d.y)\n",
    "    allX.extend(d.x)\n",
    "\n",
    "maxy = np.amax(allY)\n",
    "maxx = np.amax(allX)\n",
    "            \n",
    "f.add_layout_image(dict(\n",
    "                xref=\"x\",\n",
    "                yref=\"y\",\n",
    "                sizex= 0.25*(maxx-np.amin(allX)),\n",
    "                sizey= 0.25*(maxy-np.amin(allY)),\n",
    "))\n",
    "\n",
    "\n",
    "from PIL import Image; \n",
    "def showImg(trace, points, selector):\n",
    "    for i in points.point_inds:\n",
    "        with f.batch_update():\n",
    "            nyanchor='bottom'\n",
    "            nxanchor='left'\n",
    "            if(points.ys[0] > maxy - 15):\n",
    "                nyanchor='top'\n",
    "            if(points.xs[0] > maxx - 15):\n",
    "                nxanchor='right'\n",
    "            \n",
    "            f.update_layout_images(dict(\n",
    "                \n",
    "                source=sources[(points.trace_index+1)*points.point_inds[0]],\n",
    "                x=points.xs[0],\n",
    "                y=points.ys[0],\n",
    "                yanchor = nyanchor,\n",
    "                xanchor=nxanchor,\n",
    "            ))  "
   ]
  },
  {
   "cell_type": "code",
   "execution_count": 268,
   "metadata": {},
   "outputs": [
    {
     "data": {
      "application/vnd.jupyter.widget-view+json": {
       "model_id": "826e7e9629804439b022929d18aa81e3",
       "version_major": 2,
       "version_minor": 0
      },
      "text/plain": [
       "FigureWidget({\n",
       "    'data': [{'marker': {'color': 'rgb(7,255,0)', 'opacity': 0.8, 'size': 5},\n",
       "              'mo…"
      ]
     },
     "metadata": {},
     "output_type": "display_data"
    }
   ],
   "source": [
    "for d in f.data:\n",
    "    d.on_click(showImg)\n",
    "    \n",
    "f"
   ]
  },
  {
   "cell_type": "code",
   "execution_count": null,
   "metadata": {},
   "outputs": [],
   "source": []
  },
  {
   "cell_type": "code",
   "execution_count": null,
   "metadata": {},
   "outputs": [],
   "source": []
  }
 ],
 "metadata": {
  "kernelspec": {
   "display_name": "Python 3",
   "language": "python",
   "name": "python3"
  },
  "language_info": {
   "codemirror_mode": {
    "name": "ipython",
    "version": 3
   },
   "file_extension": ".py",
   "mimetype": "text/x-python",
   "name": "python",
   "nbconvert_exporter": "python",
   "pygments_lexer": "ipython3",
   "version": "3.8.3"
  }
 },
 "nbformat": 4,
 "nbformat_minor": 4
}
